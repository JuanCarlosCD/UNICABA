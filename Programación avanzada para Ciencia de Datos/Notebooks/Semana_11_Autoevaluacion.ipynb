{
 "cells": [
  {
   "cell_type": "markdown",
   "id": "42f5ca4c",
   "metadata": {},
   "source": [
    "# Semana 11 - Big Data con Spark\n",
    "\n",
    "**Universidad de la Ciudad de Buenos Aires**\n",
    "\n",
    "**Alumno:** ____________________\n",
    "**Fecha:** ____________________"
   ]
  },
  {
   "cell_type": "markdown",
   "id": "cbb7fa88",
   "metadata": {},
   "source": [
    "## Objetivos\n",
    "- Procesar datos masivos con PySpark."
   ]
  },
  {
   "cell_type": "markdown",
   "id": "2d5a0586",
   "metadata": {},
   "source": [
    "## Instrucciones de autoevaluación\n",
    "Las celdas con **# AUTOGRADER** validarán automáticamente tus respuestas."
   ]
  },
  {
   "cell_type": "markdown",
   "id": "8cde9fa9",
   "metadata": {},
   "source": [
    "### Ejercicio 1\n",
    "Crea una variable llamada `respuesta` con el valor 'OK'."
   ]
  },
  {
   "cell_type": "code",
   "execution_count": null,
   "id": "cd7db531",
   "metadata": {},
   "outputs": [],
   "source": [
    "# Tu solución aquí\n",
    "respuesta = ''"
   ]
  },
  {
   "cell_type": "code",
   "execution_count": null,
   "id": "50cf8ff2",
   "metadata": {},
   "outputs": [],
   "source": [
    "# AUTOGRADER\n",
    "assert respuesta == 'OK', 'La variable debe ser OK'\n",
    "print('Ejercicio 1 OK')"
   ]
  },
  {
   "cell_type": "markdown",
   "id": "f01cce5a",
   "metadata": {},
   "source": [
    "### Ejercicio 2\n",
    "Crea una función `doble(x)` que retorne el doble de x."
   ]
  },
  {
   "cell_type": "code",
   "execution_count": null,
   "id": "a49418b6",
   "metadata": {},
   "outputs": [],
   "source": [
    "# Tu solución aquí\n",
    "def doble(x):\n",
    "    pass"
   ]
  },
  {
   "cell_type": "code",
   "execution_count": null,
   "id": "8403faea",
   "metadata": {},
   "outputs": [],
   "source": [
    "# AUTOGRADER\n",
    "assert doble(2) == 4 and doble(-3) == -6, 'La función doble no es correcta'\n",
    "print('Ejercicio 2 OK')"
   ]
  },
  {
   "cell_type": "markdown",
   "id": "b54dc386",
   "metadata": {},
   "source": [
    "## Resumen\n",
    "Si todas las celdas con AUTOGRADER muestran `OK`, tu notebook está correcto."
   ]
  }
 ],
 "metadata": {},
 "nbformat": 4,
 "nbformat_minor": 5
}
