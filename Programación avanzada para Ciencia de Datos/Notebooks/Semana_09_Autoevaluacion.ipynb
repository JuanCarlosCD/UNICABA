{
 "cells": [
  {
   "cell_type": "markdown",
   "id": "86fb6f8d",
   "metadata": {},
   "source": [
    "# Semana 9 - Machine Learning en producción\n",
    "\n",
    "**Universidad de la Ciudad de Buenos Aires**\n",
    "\n",
    "**Alumno:** ____________________\n",
    "**Fecha:** ____________________"
   ]
  },
  {
   "cell_type": "markdown",
   "id": "3a8c2145",
   "metadata": {},
   "source": [
    "## Objetivos\n",
    "- Versionar y exponer modelos."
   ]
  },
  {
   "cell_type": "markdown",
   "id": "2c462f5f",
   "metadata": {},
   "source": [
    "## Instrucciones de autoevaluación\n",
    "Las celdas con **# AUTOGRADER** validarán automáticamente tus respuestas."
   ]
  },
  {
   "cell_type": "markdown",
   "id": "8970b684",
   "metadata": {},
   "source": [
    "### Ejercicio 1\n",
    "Crea una variable llamada `respuesta` con el valor 'OK'."
   ]
  },
  {
   "cell_type": "code",
   "execution_count": null,
   "id": "ad4f232e",
   "metadata": {},
   "outputs": [],
   "source": [
    "# Tu solución aquí\n",
    "respuesta = ''"
   ]
  },
  {
   "cell_type": "code",
   "execution_count": null,
   "id": "2b3eb1b3",
   "metadata": {},
   "outputs": [],
   "source": [
    "# AUTOGRADER\n",
    "assert respuesta == 'OK', 'La variable debe ser OK'\n",
    "print('Ejercicio 1 OK')"
   ]
  },
  {
   "cell_type": "markdown",
   "id": "e5777549",
   "metadata": {},
   "source": [
    "### Ejercicio 2\n",
    "Crea una función `doble(x)` que retorne el doble de x."
   ]
  },
  {
   "cell_type": "code",
   "execution_count": null,
   "id": "1515f635",
   "metadata": {},
   "outputs": [],
   "source": [
    "# Tu solución aquí\n",
    "def doble(x):\n",
    "    pass"
   ]
  },
  {
   "cell_type": "code",
   "execution_count": null,
   "id": "0ace6f70",
   "metadata": {},
   "outputs": [],
   "source": [
    "# AUTOGRADER\n",
    "assert doble(2) == 4 and doble(-3) == -6, 'La función doble no es correcta'\n",
    "print('Ejercicio 2 OK')"
   ]
  },
  {
   "cell_type": "markdown",
   "id": "d7428713",
   "metadata": {},
   "source": [
    "## Resumen\n",
    "Si todas las celdas con AUTOGRADER muestran `OK`, tu notebook está correcto."
   ]
  }
 ],
 "metadata": {},
 "nbformat": 4,
 "nbformat_minor": 5
}
