{
 "cells": [
  {
   "cell_type": "markdown",
   "id": "f89bb635",
   "metadata": {},
   "source": [
    "# Semana 2 - Estructuras avanzadas y buenas prácticas\n",
    "\n",
    "**Universidad de la Ciudad de Buenos Aires**\n",
    "\n",
    "**Alumno:** ____________________\n",
    "**Fecha:** ____________________"
   ]
  },
  {
   "cell_type": "markdown",
   "id": "b543f6d1",
   "metadata": {},
   "source": [
    "## Objetivos\n",
    "- Patrones avanzados de Python (generadores, decoradores)."
   ]
  },
  {
   "cell_type": "markdown",
   "id": "ae582297",
   "metadata": {},
   "source": [
    "## Instrucciones de autoevaluación\n",
    "Las celdas con **# AUTOGRADER** validarán automáticamente tus respuestas."
   ]
  },
  {
   "cell_type": "markdown",
   "id": "f28d8c5f",
   "metadata": {},
   "source": [
    "### Ejercicio 1\n",
    "Crea una variable llamada `respuesta` con el valor 'OK'."
   ]
  },
  {
   "cell_type": "code",
   "execution_count": null,
   "id": "67498e83",
   "metadata": {},
   "outputs": [],
   "source": [
    "# Tu solución aquí\n",
    "respuesta = ''"
   ]
  },
  {
   "cell_type": "code",
   "execution_count": null,
   "id": "d2782199",
   "metadata": {},
   "outputs": [],
   "source": [
    "# AUTOGRADER\n",
    "assert respuesta == 'OK', 'La variable debe ser OK'\n",
    "print('Ejercicio 1 OK')"
   ]
  },
  {
   "cell_type": "markdown",
   "id": "1b248afd",
   "metadata": {},
   "source": [
    "### Ejercicio 2\n",
    "Crea una función `doble(x)` que retorne el doble de x."
   ]
  },
  {
   "cell_type": "code",
   "execution_count": null,
   "id": "63b0d32a",
   "metadata": {},
   "outputs": [],
   "source": [
    "# Tu solución aquí\n",
    "def doble(x):\n",
    "    pass"
   ]
  },
  {
   "cell_type": "code",
   "execution_count": null,
   "id": "23033bb1",
   "metadata": {},
   "outputs": [],
   "source": [
    "# AUTOGRADER\n",
    "assert doble(2) == 4 and doble(-3) == -6, 'La función doble no es correcta'\n",
    "print('Ejercicio 2 OK')"
   ]
  },
  {
   "cell_type": "markdown",
   "id": "747b99b1",
   "metadata": {},
   "source": [
    "## Resumen\n",
    "Si todas las celdas con AUTOGRADER muestran `OK`, tu notebook está correcto."
   ]
  }
 ],
 "metadata": {},
 "nbformat": 4,
 "nbformat_minor": 5
}
