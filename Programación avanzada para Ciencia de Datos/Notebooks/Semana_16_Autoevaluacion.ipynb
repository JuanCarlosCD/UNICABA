{
 "cells": [
  {
   "cell_type": "markdown",
   "id": "31297d99",
   "metadata": {},
   "source": [
    "# Semana 16 - Defensa final\n",
    "\n",
    "**Universidad de la Ciudad de Buenos Aires**\n",
    "\n",
    "**Alumno:** ____________________\n",
    "**Fecha:** ____________________"
   ]
  },
  {
   "cell_type": "markdown",
   "id": "b62829b0",
   "metadata": {},
   "source": [
    "## Objetivos\n",
    "- Presentación y defensa de proyecto."
   ]
  },
  {
   "cell_type": "markdown",
   "id": "14e24128",
   "metadata": {},
   "source": [
    "## Instrucciones de autoevaluación\n",
    "Las celdas con **# AUTOGRADER** validarán automáticamente tus respuestas."
   ]
  },
  {
   "cell_type": "markdown",
   "id": "d59f7c7d",
   "metadata": {},
   "source": [
    "### Ejercicio 1\n",
    "Crea una variable llamada `respuesta` con el valor 'OK'."
   ]
  },
  {
   "cell_type": "code",
   "execution_count": null,
   "id": "73500e71",
   "metadata": {},
   "outputs": [],
   "source": [
    "# Tu solución aquí\n",
    "respuesta = ''"
   ]
  },
  {
   "cell_type": "code",
   "execution_count": null,
   "id": "81d7e869",
   "metadata": {},
   "outputs": [],
   "source": [
    "# AUTOGRADER\n",
    "assert respuesta == 'OK', 'La variable debe ser OK'\n",
    "print('Ejercicio 1 OK')"
   ]
  },
  {
   "cell_type": "markdown",
   "id": "7bfa476a",
   "metadata": {},
   "source": [
    "### Ejercicio 2\n",
    "Crea una función `doble(x)` que retorne el doble de x."
   ]
  },
  {
   "cell_type": "code",
   "execution_count": null,
   "id": "0ce5913e",
   "metadata": {},
   "outputs": [],
   "source": [
    "# Tu solución aquí\n",
    "def doble(x):\n",
    "    pass"
   ]
  },
  {
   "cell_type": "code",
   "execution_count": null,
   "id": "fc6dda69",
   "metadata": {},
   "outputs": [],
   "source": [
    "# AUTOGRADER\n",
    "assert doble(2) == 4 and doble(-3) == -6, 'La función doble no es correcta'\n",
    "print('Ejercicio 2 OK')"
   ]
  },
  {
   "cell_type": "markdown",
   "id": "310a0860",
   "metadata": {},
   "source": [
    "## Resumen\n",
    "Si todas las celdas con AUTOGRADER muestran `OK`, tu notebook está correcto."
   ]
  }
 ],
 "metadata": {},
 "nbformat": 4,
 "nbformat_minor": 5
}
