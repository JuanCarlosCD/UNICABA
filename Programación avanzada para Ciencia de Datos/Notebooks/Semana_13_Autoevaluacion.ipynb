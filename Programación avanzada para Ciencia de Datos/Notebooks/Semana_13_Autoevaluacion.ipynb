{
 "cells": [
  {
   "cell_type": "markdown",
   "id": "ae55b898",
   "metadata": {},
   "source": [
    "# Semana 13 - CI/CD para Data Science\n",
    "\n",
    "**Universidad de la Ciudad de Buenos Aires**\n",
    "\n",
    "**Alumno:** ____________________\n",
    "**Fecha:** ____________________"
   ]
  },
  {
   "cell_type": "markdown",
   "id": "422bf0b1",
   "metadata": {},
   "source": [
    "## Objetivos\n",
    "- Automatizar pipelines con GitHub Actions."
   ]
  },
  {
   "cell_type": "markdown",
   "id": "a78e51bb",
   "metadata": {},
   "source": [
    "## Instrucciones de autoevaluación\n",
    "Las celdas con **# AUTOGRADER** validarán automáticamente tus respuestas."
   ]
  },
  {
   "cell_type": "markdown",
   "id": "c0a13173",
   "metadata": {},
   "source": [
    "### Ejercicio 1\n",
    "Crea una variable llamada `respuesta` con el valor 'OK'."
   ]
  },
  {
   "cell_type": "code",
   "execution_count": null,
   "id": "56b877d3",
   "metadata": {},
   "outputs": [],
   "source": [
    "# Tu solución aquí\n",
    "respuesta = ''"
   ]
  },
  {
   "cell_type": "code",
   "execution_count": null,
   "id": "80de81a3",
   "metadata": {},
   "outputs": [],
   "source": [
    "# AUTOGRADER\n",
    "assert respuesta == 'OK', 'La variable debe ser OK'\n",
    "print('Ejercicio 1 OK')"
   ]
  },
  {
   "cell_type": "markdown",
   "id": "6001d956",
   "metadata": {},
   "source": [
    "### Ejercicio 2\n",
    "Crea una función `doble(x)` que retorne el doble de x."
   ]
  },
  {
   "cell_type": "code",
   "execution_count": null,
   "id": "387dabf6",
   "metadata": {},
   "outputs": [],
   "source": [
    "# Tu solución aquí\n",
    "def doble(x):\n",
    "    pass"
   ]
  },
  {
   "cell_type": "code",
   "execution_count": null,
   "id": "f2a5912b",
   "metadata": {},
   "outputs": [],
   "source": [
    "# AUTOGRADER\n",
    "assert doble(2) == 4 and doble(-3) == -6, 'La función doble no es correcta'\n",
    "print('Ejercicio 2 OK')"
   ]
  },
  {
   "cell_type": "markdown",
   "id": "530fd8b2",
   "metadata": {},
   "source": [
    "## Resumen\n",
    "Si todas las celdas con AUTOGRADER muestran `OK`, tu notebook está correcto."
   ]
  }
 ],
 "metadata": {},
 "nbformat": 4,
 "nbformat_minor": 5
}
