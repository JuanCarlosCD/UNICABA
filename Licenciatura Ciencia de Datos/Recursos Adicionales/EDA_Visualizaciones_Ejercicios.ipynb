{
  "cells": [
    {
      "cell_type": "markdown",
      "id": "c0DUF7KMCsTh",
      "metadata": {
        "id": "c0DUF7KMCsTh"
      },
      "source": [
        "\n",
        "#  ![images-2-2.png](data:image/png;base64,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)   **Universidad de la ciudad de Buenos Aires**\n",
        "\n",
        "---"
      ]
    },
    {
      "cell_type": "markdown",
      "id": "6dcca4fd",
      "metadata": {
        "id": "6dcca4fd"
      },
      "source": [
        "# Exploración de Datos con Visualizaciones\n",
        "Este notebook incluye ejercicios para practicar histogramas, boxplots, correlaciones y pairplots con Python."
      ]
    },
    {
      "cell_type": "markdown",
      "id": "ab9dee0a",
      "metadata": {
        "id": "ab9dee0a"
      },
      "source": [
        "## 📥 1. Carga de Datos\n",
        "Primero, importa las librerías necesarias y crea un DataFrame de ejemplo."
      ]
    },
    {
      "cell_type": "code",
      "execution_count": null,
      "id": "46fbfce9",
      "metadata": {
        "colab": {
          "base_uri": "https://localhost:8080/",
          "height": 206
        },
        "id": "46fbfce9",
        "outputId": "e0e2b5c0-fb95-44f7-d318-6591d077a038"
      },
      "outputs": [
        {
          "data": {
            "application/vnd.google.colaboratory.intrinsic+json": {
              "summary": "{\n  \"name\": \"df\",\n  \"rows\": 20,\n  \"fields\": [\n    {\n      \"column\": \"edad\",\n      \"properties\": {\n        \"dtype\": \"number\",\n        \"std\": 15,\n        \"min\": 18,\n        \"max\": 70,\n        \"num_unique_values\": 16,\n        \"samples\": [\n          22,\n          25,\n          40\n        ],\n        \"semantic_type\": \"\",\n        \"description\": \"\"\n      }\n    },\n    {\n      \"column\": \"ingresos\",\n      \"properties\": {\n        \"dtype\": \"number\",\n        \"std\": 154,\n        \"min\": 180,\n        \"max\": 700,\n        \"num_unique_values\": 17,\n        \"samples\": [\n          200,\n          220,\n          290\n        ],\n        \"semantic_type\": \"\",\n        \"description\": \"\"\n      }\n    },\n    {\n      \"column\": \"genero\",\n      \"properties\": {\n        \"dtype\": \"category\",\n        \"num_unique_values\": 2,\n        \"samples\": [\n          \"F\",\n          \"M\"\n        ],\n        \"semantic_type\": \"\",\n        \"description\": \"\"\n      }\n    },\n    {\n      \"column\": \"compra\",\n      \"properties\": {\n        \"dtype\": \"category\",\n        \"num_unique_values\": 2,\n        \"samples\": [\n          \"No\",\n          \"S\\u00ed\"\n        ],\n        \"semantic_type\": \"\",\n        \"description\": \"\"\n      }\n    }\n  ]\n}",
              "type": "dataframe",
              "variable_name": "df"
            },
            "text/html": [
              "\n",
              "  <div id=\"df-09f8b700-e2d9-4c07-a0a3-9be918e2fd51\" class=\"colab-df-container\">\n",
              "    <div>\n",
              "<style scoped>\n",
              "    .dataframe tbody tr th:only-of-type {\n",
              "        vertical-align: middle;\n",
              "    }\n",
              "\n",
              "    .dataframe tbody tr th {\n",
              "        vertical-align: top;\n",
              "    }\n",
              "\n",
              "    .dataframe thead th {\n",
              "        text-align: right;\n",
              "    }\n",
              "</style>\n",
              "<table border=\"1\" class=\"dataframe\">\n",
              "  <thead>\n",
              "    <tr style=\"text-align: right;\">\n",
              "      <th></th>\n",
              "      <th>edad</th>\n",
              "      <th>ingresos</th>\n",
              "      <th>genero</th>\n",
              "      <th>compra</th>\n",
              "    </tr>\n",
              "  </thead>\n",
              "  <tbody>\n",
              "    <tr>\n",
              "      <th>0</th>\n",
              "      <td>22</td>\n",
              "      <td>200</td>\n",
              "      <td>M</td>\n",
              "      <td>Sí</td>\n",
              "    </tr>\n",
              "    <tr>\n",
              "      <th>1</th>\n",
              "      <td>25</td>\n",
              "      <td>220</td>\n",
              "      <td>F</td>\n",
              "      <td>No</td>\n",
              "    </tr>\n",
              "    <tr>\n",
              "      <th>2</th>\n",
              "      <td>30</td>\n",
              "      <td>300</td>\n",
              "      <td>F</td>\n",
              "      <td>Sí</td>\n",
              "    </tr>\n",
              "    <tr>\n",
              "      <th>3</th>\n",
              "      <td>22</td>\n",
              "      <td>210</td>\n",
              "      <td>M</td>\n",
              "      <td>No</td>\n",
              "    </tr>\n",
              "    <tr>\n",
              "      <th>4</th>\n",
              "      <td>35</td>\n",
              "      <td>340</td>\n",
              "      <td>F</td>\n",
              "      <td>Sí</td>\n",
              "    </tr>\n",
              "  </tbody>\n",
              "</table>\n",
              "</div>\n",
              "    <div class=\"colab-df-buttons\">\n",
              "\n",
              "  <div class=\"colab-df-container\">\n",
              "    <button class=\"colab-df-convert\" onclick=\"convertToInteractive('df-09f8b700-e2d9-4c07-a0a3-9be918e2fd51')\"\n",
              "            title=\"Convert this dataframe to an interactive table.\"\n",
              "            style=\"display:none;\">\n",
              "\n",
              "  <svg xmlns=\"http://www.w3.org/2000/svg\" height=\"24px\" viewBox=\"0 -960 960 960\">\n",
              "    <path d=\"M120-120v-720h720v720H120Zm60-500h600v-160H180v160Zm220 220h160v-160H400v160Zm0 220h160v-160H400v160ZM180-400h160v-160H180v160Zm440 0h160v-160H620v160ZM180-180h160v-160H180v160Zm440 0h160v-160H620v160Z\"/>\n",
              "  </svg>\n",
              "    </button>\n",
              "\n",
              "  <style>\n",
              "    .colab-df-container {\n",
              "      display:flex;\n",
              "      gap: 12px;\n",
              "    }\n",
              "\n",
              "    .colab-df-convert {\n",
              "      background-color: #E8F0FE;\n",
              "      border: none;\n",
              "      border-radius: 50%;\n",
              "      cursor: pointer;\n",
              "      display: none;\n",
              "      fill: #1967D2;\n",
              "      height: 32px;\n",
              "      padding: 0 0 0 0;\n",
              "      width: 32px;\n",
              "    }\n",
              "\n",
              "    .colab-df-convert:hover {\n",
              "      background-color: #E2EBFA;\n",
              "      box-shadow: 0px 1px 2px rgba(60, 64, 67, 0.3), 0px 1px 3px 1px rgba(60, 64, 67, 0.15);\n",
              "      fill: #174EA6;\n",
              "    }\n",
              "\n",
              "    .colab-df-buttons div {\n",
              "      margin-bottom: 4px;\n",
              "    }\n",
              "\n",
              "    [theme=dark] .colab-df-convert {\n",
              "      background-color: #3B4455;\n",
              "      fill: #D2E3FC;\n",
              "    }\n",
              "\n",
              "    [theme=dark] .colab-df-convert:hover {\n",
              "      background-color: #434B5C;\n",
              "      box-shadow: 0px 1px 3px 1px rgba(0, 0, 0, 0.15);\n",
              "      filter: drop-shadow(0px 1px 2px rgba(0, 0, 0, 0.3));\n",
              "      fill: #FFFFFF;\n",
              "    }\n",
              "  </style>\n",
              "\n",
              "    <script>\n",
              "      const buttonEl =\n",
              "        document.querySelector('#df-09f8b700-e2d9-4c07-a0a3-9be918e2fd51 button.colab-df-convert');\n",
              "      buttonEl.style.display =\n",
              "        google.colab.kernel.accessAllowed ? 'block' : 'none';\n",
              "\n",
              "      async function convertToInteractive(key) {\n",
              "        const element = document.querySelector('#df-09f8b700-e2d9-4c07-a0a3-9be918e2fd51');\n",
              "        const dataTable =\n",
              "          await google.colab.kernel.invokeFunction('convertToInteractive',\n",
              "                                                    [key], {});\n",
              "        if (!dataTable) return;\n",
              "\n",
              "        const docLinkHtml = 'Like what you see? Visit the ' +\n",
              "          '<a target=\"_blank\" href=https://colab.research.google.com/notebooks/data_table.ipynb>data table notebook</a>'\n",
              "          + ' to learn more about interactive tables.';\n",
              "        element.innerHTML = '';\n",
              "        dataTable['output_type'] = 'display_data';\n",
              "        await google.colab.output.renderOutput(dataTable, element);\n",
              "        const docLink = document.createElement('div');\n",
              "        docLink.innerHTML = docLinkHtml;\n",
              "        element.appendChild(docLink);\n",
              "      }\n",
              "    </script>\n",
              "  </div>\n",
              "\n",
              "\n",
              "    <div id=\"df-7dd48ec5-cde0-4a52-856e-ce8c777557ad\">\n",
              "      <button class=\"colab-df-quickchart\" onclick=\"quickchart('df-7dd48ec5-cde0-4a52-856e-ce8c777557ad')\"\n",
              "                title=\"Suggest charts\"\n",
              "                style=\"display:none;\">\n",
              "\n",
              "<svg xmlns=\"http://www.w3.org/2000/svg\" height=\"24px\"viewBox=\"0 0 24 24\"\n",
              "     width=\"24px\">\n",
              "    <g>\n",
              "        <path d=\"M19 3H5c-1.1 0-2 .9-2 2v14c0 1.1.9 2 2 2h14c1.1 0 2-.9 2-2V5c0-1.1-.9-2-2-2zM9 17H7v-7h2v7zm4 0h-2V7h2v10zm4 0h-2v-4h2v4z\"/>\n",
              "    </g>\n",
              "</svg>\n",
              "      </button>\n",
              "\n",
              "<style>\n",
              "  .colab-df-quickchart {\n",
              "      --bg-color: #E8F0FE;\n",
              "      --fill-color: #1967D2;\n",
              "      --hover-bg-color: #E2EBFA;\n",
              "      --hover-fill-color: #174EA6;\n",
              "      --disabled-fill-color: #AAA;\n",
              "      --disabled-bg-color: #DDD;\n",
              "  }\n",
              "\n",
              "  [theme=dark] .colab-df-quickchart {\n",
              "      --bg-color: #3B4455;\n",
              "      --fill-color: #D2E3FC;\n",
              "      --hover-bg-color: #434B5C;\n",
              "      --hover-fill-color: #FFFFFF;\n",
              "      --disabled-bg-color: #3B4455;\n",
              "      --disabled-fill-color: #666;\n",
              "  }\n",
              "\n",
              "  .colab-df-quickchart {\n",
              "    background-color: var(--bg-color);\n",
              "    border: none;\n",
              "    border-radius: 50%;\n",
              "    cursor: pointer;\n",
              "    display: none;\n",
              "    fill: var(--fill-color);\n",
              "    height: 32px;\n",
              "    padding: 0;\n",
              "    width: 32px;\n",
              "  }\n",
              "\n",
              "  .colab-df-quickchart:hover {\n",
              "    background-color: var(--hover-bg-color);\n",
              "    box-shadow: 0 1px 2px rgba(60, 64, 67, 0.3), 0 1px 3px 1px rgba(60, 64, 67, 0.15);\n",
              "    fill: var(--button-hover-fill-color);\n",
              "  }\n",
              "\n",
              "  .colab-df-quickchart-complete:disabled,\n",
              "  .colab-df-quickchart-complete:disabled:hover {\n",
              "    background-color: var(--disabled-bg-color);\n",
              "    fill: var(--disabled-fill-color);\n",
              "    box-shadow: none;\n",
              "  }\n",
              "\n",
              "  .colab-df-spinner {\n",
              "    border: 2px solid var(--fill-color);\n",
              "    border-color: transparent;\n",
              "    border-bottom-color: var(--fill-color);\n",
              "    animation:\n",
              "      spin 1s steps(1) infinite;\n",
              "  }\n",
              "\n",
              "  @keyframes spin {\n",
              "    0% {\n",
              "      border-color: transparent;\n",
              "      border-bottom-color: var(--fill-color);\n",
              "      border-left-color: var(--fill-color);\n",
              "    }\n",
              "    20% {\n",
              "      border-color: transparent;\n",
              "      border-left-color: var(--fill-color);\n",
              "      border-top-color: var(--fill-color);\n",
              "    }\n",
              "    30% {\n",
              "      border-color: transparent;\n",
              "      border-left-color: var(--fill-color);\n",
              "      border-top-color: var(--fill-color);\n",
              "      border-right-color: var(--fill-color);\n",
              "    }\n",
              "    40% {\n",
              "      border-color: transparent;\n",
              "      border-right-color: var(--fill-color);\n",
              "      border-top-color: var(--fill-color);\n",
              "    }\n",
              "    60% {\n",
              "      border-color: transparent;\n",
              "      border-right-color: var(--fill-color);\n",
              "    }\n",
              "    80% {\n",
              "      border-color: transparent;\n",
              "      border-right-color: var(--fill-color);\n",
              "      border-bottom-color: var(--fill-color);\n",
              "    }\n",
              "    90% {\n",
              "      border-color: transparent;\n",
              "      border-bottom-color: var(--fill-color);\n",
              "    }\n",
              "  }\n",
              "</style>\n",
              "\n",
              "      <script>\n",
              "        async function quickchart(key) {\n",
              "          const quickchartButtonEl =\n",
              "            document.querySelector('#' + key + ' button');\n",
              "          quickchartButtonEl.disabled = true;  // To prevent multiple clicks.\n",
              "          quickchartButtonEl.classList.add('colab-df-spinner');\n",
              "          try {\n",
              "            const charts = await google.colab.kernel.invokeFunction(\n",
              "                'suggestCharts', [key], {});\n",
              "          } catch (error) {\n",
              "            console.error('Error during call to suggestCharts:', error);\n",
              "          }\n",
              "          quickchartButtonEl.classList.remove('colab-df-spinner');\n",
              "          quickchartButtonEl.classList.add('colab-df-quickchart-complete');\n",
              "        }\n",
              "        (() => {\n",
              "          let quickchartButtonEl =\n",
              "            document.querySelector('#df-7dd48ec5-cde0-4a52-856e-ce8c777557ad button');\n",
              "          quickchartButtonEl.style.display =\n",
              "            google.colab.kernel.accessAllowed ? 'block' : 'none';\n",
              "        })();\n",
              "      </script>\n",
              "    </div>\n",
              "\n",
              "    </div>\n",
              "  </div>\n"
            ],
            "text/plain": [
              "   edad  ingresos genero compra\n",
              "0    22       200      M     Sí\n",
              "1    25       220      F     No\n",
              "2    30       300      F     Sí\n",
              "3    22       210      M     No\n",
              "4    35       340      F     Sí"
            ]
          },
          "execution_count": 1,
          "metadata": {},
          "output_type": "execute_result"
        }
      ],
      "source": [
        "import pandas as pd\n",
        "import matplotlib.pyplot as plt\n",
        "import seaborn as sns\n",
        "\n",
        "# Dataset simulado\n",
        "df = pd.DataFrame({\n",
        "    'edad': [22, 25, 30, 22, 35, 28, 40, 50, 60, 65, 70, 18, 19, 29, 30, 30, 34, 20, 27, 30],\n",
        "    'ingresos': [200, 220, 300, 210, 340, 290, 410, 520, 610, 630, 700, 180, 190, 310, 320, 300, 330, 210, 270, 310],\n",
        "    'genero': ['M', 'F', 'F', 'M', 'F', 'F', 'M', 'F', 'M', 'F', 'F', 'M', 'F', 'M', 'F', 'M', 'M', 'F', 'F', 'M'],\n",
        "    'compra': ['Sí', 'No', 'Sí', 'No', 'Sí', 'Sí', 'No', 'Sí', 'No', 'Sí', 'No', 'No', 'Sí', 'Sí', 'No', 'Sí', 'No', 'Sí', 'No', 'Sí']\n",
        "})\n",
        "df.head()"
      ]
    },
    {
      "cell_type": "markdown",
      "id": "3088d8d6",
      "metadata": {
        "id": "3088d8d6"
      },
      "source": [
        "## 📊 2. Histograma\n",
        "Crea un histograma para analizar la distribución de la edad."
      ]
    },
    {
      "cell_type": "code",
      "execution_count": null,
      "id": "af09bf14",
      "metadata": {
        "colab": {
          "base_uri": "https://localhost:8080/",
          "height": 410
        },
        "id": "af09bf14",
        "outputId": "2597d998-85cf-4df0-ffb8-fa96cc5c4b30"
      },
      "outputs": [
        {
          "data": {
            "image/png": "[encoded data removed]",
            "text/plain": [
              "<Figure size 600x400 with 1 Axes>"
            ]
          },
          "metadata": {},
          "output_type": "display_data"
        }
      ],
      "source": [
        "plt.figure(figsize=(6,4))\n",
        "sns.histplot(df['edad'], kde=True)\n",
        "plt.title('Histograma de Edad')\n",
        "plt.xlabel('Edad')\n",
        "plt.ylabel('Frecuencia')\n",
        "plt.show()"
      ]
    },
    {
      "cell_type": "markdown",
      "id": "1f62e174",
      "metadata": {
        "id": "1f62e174"
      },
      "source": [
        "## 📦 3. Boxplot\n",
        "Visualiza los valores atípicos de edad con un diagrama de caja."
      ]
    },
    {
      "cell_type": "code",
      "execution_count": null,
      "id": "680fa696",
      "metadata": {
        "colab": {
          "base_uri": "https://localhost:8080/",
          "height": 410
        },
        "id": "680fa696",
        "outputId": "918afd4f-6021-4e0d-cfcc-c1175546ab0f"
      },
      "outputs": [
        {
          "data": {
            "image/png": "[encoded data removed]",
            "text/plain": [
              "<Figure size 600x400 with 1 Axes>"
            ]
          },
          "metadata": {},
          "output_type": "display_data"
        }
      ],
      "source": [
        "plt.figure(figsize=(6,4))\n",
        "sns.boxplot(x=df['edad'])\n",
        "plt.title('Boxplot de Edad')\n",
        "plt.xlabel('Edad')\n",
        "plt.show()"
      ]
    },
    {
      "cell_type": "markdown",
      "id": "2fd3933a",
      "metadata": {
        "id": "2fd3933a"
      },
      "source": [
        "## 🔁 4. Correlación de Variables Numéricas\n",
        "Calcula y visualiza la correlación entre edad e ingresos."
      ]
    },
    {
      "cell_type": "code",
      "execution_count": null,
      "id": "e9d5eb13",
      "metadata": {
        "colab": {
          "base_uri": "https://localhost:8080/",
          "height": 465
        },
        "id": "e9d5eb13",
        "outputId": "0e110819-3974-429d-bd26-604fd46ef0de"
      },
      "outputs": [
        {
          "name": "stdout",
          "output_type": "stream",
          "text": [
            "              edad  ingresos\n",
            "edad      1.000000  0.995921\n",
            "ingresos  0.995921  1.000000\n"
          ]
        },
        {
          "data": {
            "image/png": "[encoded data removed]",
            "text/plain": [
              "<Figure size 600x400 with 1 Axes>"
            ]
          },
          "metadata": {},
          "output_type": "display_data"
        }
      ],
      "source": [
        "# Matriz de correlación\n",
        "print(df[['edad', 'ingresos']].corr())\n",
        "\n",
        "# Gráfico de dispersión con línea de regresión\n",
        "plt.figure(figsize=(6,4))\n",
        "sns.regplot(data=df, x='edad', y='ingresos')\n",
        "plt.title('Relación entre Edad e Ingresos')\n",
        "plt.show()"
      ]
    },
    {
      "cell_type": "markdown",
      "id": "8e698f26",
      "metadata": {
        "id": "8e698f26"
      },
      "source": [
        "## 📊 5. Tabla de Contingencia\n",
        "Analiza la relación entre género y decisión de compra."
      ]
    },
    {
      "cell_type": "code",
      "execution_count": null,
      "id": "b7e72d9c",
      "metadata": {
        "colab": {
          "base_uri": "https://localhost:8080/",
          "height": 143
        },
        "id": "b7e72d9c",
        "outputId": "700ddbd7-7eec-48a6-c821-b09ee803c7a6"
      },
      "outputs": [
        {
          "data": {
            "application/vnd.google.colaboratory.intrinsic+json": {
              "summary": "{\n  \"name\": \"pd\",\n  \"rows\": 2,\n  \"fields\": [\n    {\n      \"column\": \"genero\",\n      \"properties\": {\n        \"dtype\": \"string\",\n        \"num_unique_values\": 2,\n        \"samples\": [\n          \"M\",\n          \"F\"\n        ],\n        \"semantic_type\": \"\",\n        \"description\": \"\"\n      }\n    },\n    {\n      \"column\": \"No\",\n      \"properties\": {\n        \"dtype\": \"number\",\n        \"std\": 0,\n        \"min\": 4,\n        \"max\": 5,\n        \"num_unique_values\": 2,\n        \"samples\": [\n          5,\n          4\n        ],\n        \"semantic_type\": \"\",\n        \"description\": \"\"\n      }\n    },\n    {\n      \"column\": \"S\\u00ed\",\n      \"properties\": {\n        \"dtype\": \"number\",\n        \"std\": 2,\n        \"min\": 4,\n        \"max\": 7,\n        \"num_unique_values\": 2,\n        \"samples\": [\n          4,\n          7\n        ],\n        \"semantic_type\": \"\",\n        \"description\": \"\"\n      }\n    }\n  ]\n}",
              "type": "dataframe"
            },
            "text/html": [
              "\n",
              "  <div id=\"df-00235040-7c0f-4611-adb4-5a304c35429a\" class=\"colab-df-container\">\n",
              "    <div>\n",
              "<style scoped>\n",
              "    .dataframe tbody tr th:only-of-type {\n",
              "        vertical-align: middle;\n",
              "    }\n",
              "\n",
              "    .dataframe tbody tr th {\n",
              "        vertical-align: top;\n",
              "    }\n",
              "\n",
              "    .dataframe thead th {\n",
              "        text-align: right;\n",
              "    }\n",
              "</style>\n",
              "<table border=\"1\" class=\"dataframe\">\n",
              "  <thead>\n",
              "    <tr style=\"text-align: right;\">\n",
              "      <th>compra</th>\n",
              "      <th>No</th>\n",
              "      <th>Sí</th>\n",
              "    </tr>\n",
              "    <tr>\n",
              "      <th>genero</th>\n",
              "      <th></th>\n",
              "      <th></th>\n",
              "    </tr>\n",
              "  </thead>\n",
              "  <tbody>\n",
              "    <tr>\n",
              "      <th>F</th>\n",
              "      <td>4</td>\n",
              "      <td>7</td>\n",
              "    </tr>\n",
              "    <tr>\n",
              "      <th>M</th>\n",
              "      <td>5</td>\n",
              "      <td>4</td>\n",
              "    </tr>\n",
              "  </tbody>\n",
              "</table>\n",
              "</div>\n",
              "    <div class=\"colab-df-buttons\">\n",
              "\n",
              "  <div class=\"colab-df-container\">\n",
              "    <button class=\"colab-df-convert\" onclick=\"convertToInteractive('df-00235040-7c0f-4611-adb4-5a304c35429a')\"\n",
              "            title=\"Convert this dataframe to an interactive table.\"\n",
              "            style=\"display:none;\">\n",
              "\n",
              "  <svg xmlns=\"http://www.w3.org/2000/svg\" height=\"24px\" viewBox=\"0 -960 960 960\">\n",
              "    <path d=\"M120-120v-720h720v720H120Zm60-500h600v-160H180v160Zm220 220h160v-160H400v160Zm0 220h160v-160H400v160ZM180-400h160v-160H180v160Zm440 0h160v-160H620v160ZM180-180h160v-160H180v160Zm440 0h160v-160H620v160Z\"/>\n",
              "  </svg>\n",
              "    </button>\n",
              "\n",
              "  <style>\n",
              "    .colab-df-container {\n",
              "      display:flex;\n",
              "      gap: 12px;\n",
              "    }\n",
              "\n",
              "    .colab-df-convert {\n",
              "      background-color: #E8F0FE;\n",
              "      border: none;\n",
              "      border-radius: 50%;\n",
              "      cursor: pointer;\n",
              "      display: none;\n",
              "      fill: #1967D2;\n",
              "      height: 32px;\n",
              "      padding: 0 0 0 0;\n",
              "      width: 32px;\n",
              "    }\n",
              "\n",
              "    .colab-df-convert:hover {\n",
              "      background-color: #E2EBFA;\n",
              "      box-shadow: 0px 1px 2px rgba(60, 64, 67, 0.3), 0px 1px 3px 1px rgba(60, 64, 67, 0.15);\n",
              "      fill: #174EA6;\n",
              "    }\n",
              "\n",
              "    .colab-df-buttons div {\n",
              "      margin-bottom: 4px;\n",
              "    }\n",
              "\n",
              "    [theme=dark] .colab-df-convert {\n",
              "      background-color: #3B4455;\n",
              "      fill: #D2E3FC;\n",
              "    }\n",
              "\n",
              "    [theme=dark] .colab-df-convert:hover {\n",
              "      background-color: #434B5C;\n",
              "      box-shadow: 0px 1px 3px 1px rgba(0, 0, 0, 0.15);\n",
              "      filter: drop-shadow(0px 1px 2px rgba(0, 0, 0, 0.3));\n",
              "      fill: #FFFFFF;\n",
              "    }\n",
              "  </style>\n",
              "\n",
              "    <script>\n",
              "      const buttonEl =\n",
              "        document.querySelector('#df-00235040-7c0f-4611-adb4-5a304c35429a button.colab-df-convert');\n",
              "      buttonEl.style.display =\n",
              "        google.colab.kernel.accessAllowed ? 'block' : 'none';\n",
              "\n",
              "      async function convertToInteractive(key) {\n",
              "        const element = document.querySelector('#df-00235040-7c0f-4611-adb4-5a304c35429a');\n",
              "        const dataTable =\n",
              "          await google.colab.kernel.invokeFunction('convertToInteractive',\n",
              "                                                    [key], {});\n",
              "        if (!dataTable) return;\n",
              "\n",
              "        const docLinkHtml = 'Like what you see? Visit the ' +\n",
              "          '<a target=\"_blank\" href=https://colab.research.google.com/notebooks/data_table.ipynb>data table notebook</a>'\n",
              "          + ' to learn more about interactive tables.';\n",
              "        element.innerHTML = '';\n",
              "        dataTable['output_type'] = 'display_data';\n",
              "        await google.colab.output.renderOutput(dataTable, element);\n",
              "        const docLink = document.createElement('div');\n",
              "        docLink.innerHTML = docLinkHtml;\n",
              "        element.appendChild(docLink);\n",
              "      }\n",
              "    </script>\n",
              "  </div>\n",
              "\n",
              "\n",
              "    <div id=\"df-e5d7239c-0d29-4bfd-94e7-86ad9bdf22e2\">\n",
              "      <button class=\"colab-df-quickchart\" onclick=\"quickchart('df-e5d7239c-0d29-4bfd-94e7-86ad9bdf22e2')\"\n",
              "                title=\"Suggest charts\"\n",
              "                style=\"display:none;\">\n",
              "\n",
              "<svg xmlns=\"http://www.w3.org/2000/svg\" height=\"24px\"viewBox=\"0 0 24 24\"\n",
              "     width=\"24px\">\n",
              "    <g>\n",
              "        <path d=\"M19 3H5c-1.1 0-2 .9-2 2v14c0 1.1.9 2 2 2h14c1.1 0 2-.9 2-2V5c0-1.1-.9-2-2-2zM9 17H7v-7h2v7zm4 0h-2V7h2v10zm4 0h-2v-4h2v4z\"/>\n",
              "    </g>\n",
              "</svg>\n",
              "      </button>\n",
              "\n",
              "<style>\n",
              "  .colab-df-quickchart {\n",
              "      --bg-color: #E8F0FE;\n",
              "      --fill-color: #1967D2;\n",
              "      --hover-bg-color: #E2EBFA;\n",
              "      --hover-fill-color: #174EA6;\n",
              "      --disabled-fill-color: #AAA;\n",
              "      --disabled-bg-color: #DDD;\n",
              "  }\n",
              "\n",
              "  [theme=dark] .colab-df-quickchart {\n",
              "      --bg-color: #3B4455;\n",
              "      --fill-color: #D2E3FC;\n",
              "      --hover-bg-color: #434B5C;\n",
              "      --hover-fill-color: #FFFFFF;\n",
              "      --disabled-bg-color: #3B4455;\n",
              "      --disabled-fill-color: #666;\n",
              "  }\n",
              "\n",
              "  .colab-df-quickchart {\n",
              "    background-color: var(--bg-color);\n",
              "    border: none;\n",
              "    border-radius: 50%;\n",
              "    cursor: pointer;\n",
              "    display: none;\n",
              "    fill: var(--fill-color);\n",
              "    height: 32px;\n",
              "    padding: 0;\n",
              "    width: 32px;\n",
              "  }\n",
              "\n",
              "  .colab-df-quickchart:hover {\n",
              "    background-color: var(--hover-bg-color);\n",
              "    box-shadow: 0 1px 2px rgba(60, 64, 67, 0.3), 0 1px 3px 1px rgba(60, 64, 67, 0.15);\n",
              "    fill: var(--button-hover-fill-color);\n",
              "  }\n",
              "\n",
              "  .colab-df-quickchart-complete:disabled,\n",
              "  .colab-df-quickchart-complete:disabled:hover {\n",
              "    background-color: var(--disabled-bg-color);\n",
              "    fill: var(--disabled-fill-color);\n",
              "    box-shadow: none;\n",
              "  }\n",
              "\n",
              "  .colab-df-spinner {\n",
              "    border: 2px solid var(--fill-color);\n",
              "    border-color: transparent;\n",
              "    border-bottom-color: var(--fill-color);\n",
              "    animation:\n",
              "      spin 1s steps(1) infinite;\n",
              "  }\n",
              "\n",
              "  @keyframes spin {\n",
              "    0% {\n",
              "      border-color: transparent;\n",
              "      border-bottom-color: var(--fill-color);\n",
              "      border-left-color: var(--fill-color);\n",
              "    }\n",
              "    20% {\n",
              "      border-color: transparent;\n",
              "      border-left-color: var(--fill-color);\n",
              "      border-top-color: var(--fill-color);\n",
              "    }\n",
              "    30% {\n",
              "      border-color: transparent;\n",
              "      border-left-color: var(--fill-color);\n",
              "      border-top-color: var(--fill-color);\n",
              "      border-right-color: var(--fill-color);\n",
              "    }\n",
              "    40% {\n",
              "      border-color: transparent;\n",
              "      border-right-color: var(--fill-color);\n",
              "      border-top-color: var(--fill-color);\n",
              "    }\n",
              "    60% {\n",
              "      border-color: transparent;\n",
              "      border-right-color: var(--fill-color);\n",
              "    }\n",
              "    80% {\n",
              "      border-color: transparent;\n",
              "      border-right-color: var(--fill-color);\n",
              "      border-bottom-color: var(--fill-color);\n",
              "    }\n",
              "    90% {\n",
              "      border-color: transparent;\n",
              "      border-bottom-color: var(--fill-color);\n",
              "    }\n",
              "  }\n",
              "</style>\n",
              "\n",
              "      <script>\n",
              "        async function quickchart(key) {\n",
              "          const quickchartButtonEl =\n",
              "            document.querySelector('#' + key + ' button');\n",
              "          quickchartButtonEl.disabled = true;  // To prevent multiple clicks.\n",
              "          quickchartButtonEl.classList.add('colab-df-spinner');\n",
              "          try {\n",
              "            const charts = await google.colab.kernel.invokeFunction(\n",
              "                'suggestCharts', [key], {});\n",
              "          } catch (error) {\n",
              "            console.error('Error during call to suggestCharts:', error);\n",
              "          }\n",
              "          quickchartButtonEl.classList.remove('colab-df-spinner');\n",
              "          quickchartButtonEl.classList.add('colab-df-quickchart-complete');\n",
              "        }\n",
              "        (() => {\n",
              "          let quickchartButtonEl =\n",
              "            document.querySelector('#df-e5d7239c-0d29-4bfd-94e7-86ad9bdf22e2 button');\n",
              "          quickchartButtonEl.style.display =\n",
              "            google.colab.kernel.accessAllowed ? 'block' : 'none';\n",
              "        })();\n",
              "      </script>\n",
              "    </div>\n",
              "\n",
              "    </div>\n",
              "  </div>\n"
            ],
            "text/plain": [
              "compra  No  Sí\n",
              "genero        \n",
              "F        4   7\n",
              "M        5   4"
            ]
          },
          "execution_count": 5,
          "metadata": {},
          "output_type": "execute_result"
        }
      ],
      "source": [
        "# Tabla de contingencia\n",
        "pd.crosstab(df['genero'], df['compra'])"
      ]
    },
    {
      "cell_type": "code",
      "execution_count": null,
      "id": "cff3b02a",
      "metadata": {
        "colab": {
          "base_uri": "https://localhost:8080/",
          "height": 411
        },
        "id": "cff3b02a",
        "outputId": "085bc9df-f387-4383-8bce-d8ec58c9e50c"
      },
      "outputs": [
        {
          "data": {
            "image/png": "[encoded data removed]",
            "text/plain": [
              "<Figure size 600x400 with 1 Axes>"
            ]
          },
          "metadata": {},
          "output_type": "display_data"
        }
      ],
      "source": [
        "# Visualización con countplot\n",
        "plt.figure(figsize=(6,4))\n",
        "sns.countplot(data=df, x='genero', hue='compra')\n",
        "plt.title('Género vs Compra')\n",
        "plt.show()"
      ]
    },
    {
      "cell_type": "markdown",
      "id": "b3e3fea8",
      "metadata": {
        "id": "b3e3fea8"
      },
      "source": [
        "## 🔍 6. Pairplot\n",
        "Visualiza las relaciones múltiples entre edad e ingresos."
      ]
    },
    {
      "cell_type": "code",
      "execution_count": null,
      "id": "5ec6f1bf",
      "metadata": {
        "colab": {
          "base_uri": "https://localhost:8080/",
          "height": 535
        },
        "id": "5ec6f1bf",
        "outputId": "f87c0a55-be44-4fff-efa8-f0f8ea0cd05f"
      },
      "outputs": [
        {
          "data": {
            "image/png": "[encoded data removed]",
            "text/plain": [
              "<Figure size 500x500 with 6 Axes>"
            ]
          },
          "metadata": {},
          "output_type": "display_data"
        }
      ],
      "source": [
        "sns.pairplot(df[['edad', 'ingresos']])\n",
        "plt.suptitle('Pairplot de Edad e Ingresos', y=1.02)\n",
        "plt.show()"
      ]
    },
    {
      "cell_type": "markdown",
      "id": "fd126840",
      "metadata": {
        "id": "fd126840"
      },
      "source": [
        "✅ ¡Listo! Puedes modificar los datos o agregar más columnas para practicar con tus propios ejemplos."
      ]
    }
  ],
  "metadata": {
    "colab": {
      "provenance": []
    },
    "kernelspec": {
      "display_name": "Python 3",
      "name": "python3"
    },
    "language_info": {
      "name": "python"
    }
  },
  "nbformat": 4,
  "nbformat_minor": 5
}
