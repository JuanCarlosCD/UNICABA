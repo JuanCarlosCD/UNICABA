{
  "cells": [
    {
      "cell_type": "markdown",
      "id": "3b8ea485",
      "metadata": {
        "id": "3b8ea485"
      },
      "source": [
        "\n",
        "#  ![images-2-2.png](data:image/png;base64,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)   **Universidad de la ciudad de Buenos Aires**\n",
        "\n",
        "---"
      ]
    },
    {
      "cell_type": "markdown",
      "id": "nOjsx0B1BdLE",
      "metadata": {
        "id": "nOjsx0B1BdLE"
      },
      "source": [
        "# 🧪 Ejercicio de Análisis Exploratorio de Datos (EDA)\n",
        "\n",
        "Realiza un análisis exploratorio completo sobre el dataset `EDA_Sample_Dataset.csv`, siguiendo los pasos aprendidos en clase."
      ]
    },
    {
      "cell_type": "markdown",
      "id": "b6412764",
      "metadata": {
        "id": "b6412764"
      },
      "source": [
        "## 📥 1. Carga de Datos\n",
        "Importa las bibliotecas necesarias y carga el dataset."
      ]
    },
    {
      "cell_type": "code",
      "execution_count": null,
      "id": "1d2fd60a",
      "metadata": {
        "id": "1d2fd60a"
      },
      "outputs": [],
      "source": [
        "# Tu código aquí\n"
      ]
    },
    {
      "cell_type": "markdown",
      "id": "a3bd7bea",
      "metadata": {
        "id": "a3bd7bea"
      },
      "source": [
        "## 🔍 2. Análisis Univariado\n",
        "Analiza cada variable de forma individual. Realiza estadísticas descriptivas y visualizaciones que te permitan entender su distribución."
      ]
    },
    {
      "cell_type": "code",
      "execution_count": null,
      "id": "5e2702ce",
      "metadata": {
        "id": "5e2702ce"
      },
      "outputs": [],
      "source": [
        "# Tu código aquí\n"
      ]
    },
    {
      "cell_type": "markdown",
      "id": "9f3731d5",
      "metadata": {
        "id": "9f3731d5"
      },
      "source": [
        "## 🔗 3. Análisis Bivariado\n",
        "Explora la relación entre pares de variables. Incluye correlaciones y gráficos según corresponda."
      ]
    },
    {
      "cell_type": "code",
      "execution_count": null,
      "id": "3921682c",
      "metadata": {
        "id": "3921682c"
      },
      "outputs": [],
      "source": [
        "# Tu código aquí\n"
      ]
    },
    {
      "cell_type": "markdown",
      "id": "b8dcf5b4",
      "metadata": {
        "id": "b8dcf5b4"
      },
      "source": [
        "## 📊 4. Análisis Multivariado\n",
        "Usa visualizaciones para comprender las relaciones entre múltiples variables."
      ]
    },
    {
      "cell_type": "code",
      "execution_count": null,
      "id": "0ee0b8a3",
      "metadata": {
        "id": "0ee0b8a3"
      },
      "outputs": [],
      "source": [
        "# Tu código aquí\n"
      ]
    },
    {
      "cell_type": "markdown",
      "id": "1467e96e",
      "metadata": {
        "id": "1467e96e"
      },
      "source": [
        "## ⚠️ 5. Valores Faltantes y Duplicados\n",
        "Detecta y trata los valores nulos y duplicados si existen."
      ]
    },
    {
      "cell_type": "code",
      "execution_count": null,
      "id": "154d083f",
      "metadata": {
        "id": "154d083f"
      },
      "outputs": [],
      "source": [
        "# Tu código aquí\n"
      ]
    },
    {
      "cell_type": "markdown",
      "id": "eef90299",
      "metadata": {
        "id": "eef90299"
      },
      "source": [
        "## 🚨 6. Detección de Outliers\n",
        "Utiliza métodos como el IQR y el Z-score para identificar valores atípicos."
      ]
    },
    {
      "cell_type": "code",
      "execution_count": null,
      "id": "7d1c2198",
      "metadata": {
        "id": "7d1c2198"
      },
      "outputs": [],
      "source": [
        "# Tu código aquí\n"
      ]
    },
    {
      "cell_type": "markdown",
      "id": "a8d7c5fc",
      "metadata": {
        "id": "a8d7c5fc"
      },
      "source": [
        "## 🧾 7. Conclusiones\n",
        "Resume tus hallazgos más importantes. ¿Qué variables parecen relevantes? ¿Qué problemas detectaste en los datos?\n",
        "Adicione las fases del flujo de trabajo para este apartado"
      ]
    },
    {
      "cell_type": "code",
      "execution_count": null,
      "id": "acf03591",
      "metadata": {
        "id": "acf03591"
      },
      "outputs": [],
      "source": [
        "# Tu análisis aquí\n"
      ]
    }
  ],
  "metadata": {
    "colab": {
      "provenance": []
    },
    "language_info": {
      "name": "python"
    }
  },
  "nbformat": 4,
  "nbformat_minor": 5
}
